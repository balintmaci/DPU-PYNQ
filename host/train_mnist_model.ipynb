{
 "cells": [
  {
   "cell_type": "markdown",
   "metadata": {},
   "source": [
    "# Training a CNN for DPU compilation\n",
    "\n",
    "In this notebook we show how to train a simple Convolutional Neural Network (CNN)\n",
    "on the MNIST handwritten digit dataset for deployment on the DPU. We will cover:\n",
    "\n",
    "* Loading and pre-processing the imagenet dataset\n",
    "* Training a CNN with Keras and Tensorflow\n",
    "* Freezing the trained model\n",
    "* Quantizing and evaluating the quantized model\n",
    "* Compiling for DPU using the Vitis AI compiler\n",
    "\n",
    "**Note**:\n",
    "* This notebook should be run on a proper X86 machine; it has to support\n",
    "AVX2 and FMA instructions sets. To check:\n",
    "```shell\n",
    "grep avx2 /proc/cpuinfo\n",
    "grep fma /proc/cpuinfo\n",
    "```\n",
    "* Please make sure the following has been done in terminal before you start this notebook:\n",
    "```shell\n",
    "conda activate vitis-ai-tensorflow\n",
    "yes | pip install matplotlib keras==2.2.5\n",
    "```"
   ]
  },
  {
   "cell_type": "code",
   "execution_count": 1,
   "metadata": {},
   "outputs": [
    {
     "name": "stderr",
     "output_type": "stream",
     "text": [
      "Using TensorFlow backend.\n"
     ]
    }
   ],
   "source": [
    "import os\n",
    "import numpy as np\n",
    "import matplotlib.pyplot as plt\n",
    "import tensorflow as tf\n",
    "tf.compat.v1.logging.set_verbosity(tf.compat.v1.logging.ERROR)\n",
    "import keras\n",
    "from keras.layers import Dense, Conv2D, InputLayer, Flatten, MaxPool2D"
   ]
  },
  {
   "cell_type": "markdown",
   "metadata": {},
   "source": [
    "## Load dataset\n",
    "\n",
    "The MNIST dataset comes with 60k training and 10k test examples that are\n",
    "28x28 grayscale images, along with their labels which are just the \n",
    "corresponding digits saved as integers. We can use the `keras.datasets`\n",
    "utility to load the MNIST dataset straight into our Jupyter environment."
   ]
  },
  {
   "cell_type": "code",
   "execution_count": 2,
   "metadata": {},
   "outputs": [
    {
     "name": "stdout",
     "output_type": "stream",
     "text": [
      "Training data: (60000, 28, 28), (60000,)\n",
      "Test data: (10000, 28, 28), (10000,)\n"
     ]
    }
   ],
   "source": [
    "(x_train, y_train), (x_test, y_test) = keras.datasets.mnist.load_data()\n",
    "\n",
    "print('Training data: {}, {}'.format(x_train.shape, y_train.shape))\n",
    "print('Test data: {}, {}'.format(x_test.shape, y_test.shape))"
   ]
  },
  {
   "cell_type": "code",
   "execution_count": 3,
   "metadata": {},
   "outputs": [
    {
     "data": {
      "image/png": "[encoded data removed]",
      "text/plain": [
       "<Figure size 720x720 with 5 Axes>"
      ]
     },
     "metadata": {
      "needs_background": "light"
     },
     "output_type": "display_data"
    }
   ],
   "source": [
    "fig, axs = plt.subplots(1, 5, figsize=(10, 10))\n",
    "plt.tight_layout()\n",
    "\n",
    "for i in range(5):\n",
    "    axs[i].imshow(x_train[i], 'gray')\n",
    "    axs[i].set_title('Label: {}'.format(y_train[i]))"
   ]
  },
  {
   "cell_type": "markdown",
   "metadata": {},
   "source": [
    "Next we will normalize the training and test images. We also need to add\n",
    "color channel. All these pre-processing steps are required by Conv2D layers."
   ]
  },
  {
   "cell_type": "code",
   "execution_count": 4,
   "metadata": {},
   "outputs": [],
   "source": [
    "x_train, x_test = x_train / 255.0, x_test / 255.0\n",
    "x_train = np.expand_dims(x_train, axis=3)\n",
    "x_test = np.expand_dims(x_test, axis=3)"
   ]
  },
  {
   "cell_type": "markdown",
   "metadata": {},
   "source": [
    "## Train the model\n",
    "\n",
    "Create a sequential model by passing a list of layers. Because the MNIST\n",
    "dataset is not difficult, we can use a very simple network with a single \n",
    "convolutional layer."
   ]
  },
  {
   "cell_type": "code",
   "execution_count": 5,
   "metadata": {},
   "outputs": [],
   "source": [
    "model = keras.models.Sequential([\n",
    "    InputLayer(input_shape=(28, 28, 1), name='input_data'),\n",
    "    Conv2D(32, 3, activation='relu'),\n",
    "    MaxPool2D(pool_size=(2,2)),\n",
    "    Flatten(),\n",
    "    Dense(128, activation='relu'),\n",
    "    Dense(10, activation='softmax', name='output_logits')\n",
    "])"
   ]
  },
  {
   "cell_type": "code",
   "execution_count": 6,
   "metadata": {},
   "outputs": [
    {
     "name": "stdout",
     "output_type": "stream",
     "text": [
      "Model: \"sequential_1\"\n",
      "_________________________________________________________________\n",
      "Layer (type)                 Output Shape              Param #   \n",
      "=================================================================\n",
      "conv2d_1 (Conv2D)            (None, 26, 26, 32)        320       \n",
      "_________________________________________________________________\n",
      "max_pooling2d_1 (MaxPooling2 (None, 13, 13, 32)        0         \n",
      "_________________________________________________________________\n",
      "flatten_1 (Flatten)          (None, 5408)              0         \n",
      "_________________________________________________________________\n",
      "dense_1 (Dense)              (None, 128)               692352    \n",
      "_________________________________________________________________\n",
      "output_logits (Dense)        (None, 10)                1290      \n",
      "=================================================================\n",
      "Total params: 693,962\n",
      "Trainable params: 693,962\n",
      "Non-trainable params: 0\n",
      "_________________________________________________________________\n"
     ]
    }
   ],
   "source": [
    "model.summary()"
   ]
  },
  {
   "cell_type": "markdown",
   "metadata": {},
   "source": [
    "Configure the model for training: choose desired optimizer, loss function\n",
    "and metrics to observe over the training period."
   ]
  },
  {
   "cell_type": "code",
   "execution_count": 7,
   "metadata": {},
   "outputs": [],
   "source": [
    "model.compile(optimizer='adam',\n",
    "              loss=\"sparse_categorical_crossentropy\", \n",
    "              metrics=['accuracy'])"
   ]
  },
  {
   "cell_type": "markdown",
   "metadata": {},
   "source": [
    "Now we can train the model."
   ]
  },
  {
   "cell_type": "code",
   "execution_count": 8,
   "metadata": {
    "scrolled": true
   },
   "outputs": [
    {
     "name": "stdout",
     "output_type": "stream",
     "text": [
      "Epoch 1/5\n",
      "60000/60000 [==============================] - 14s 237us/step - loss: 0.1485 - acc: 0.9544\n",
      "Epoch 2/5\n",
      "60000/60000 [==============================] - 14s 234us/step - loss: 0.0509 - acc: 0.9840\n",
      "Epoch 3/5\n",
      "60000/60000 [==============================] - 14s 234us/step - loss: 0.0330 - acc: 0.9897\n",
      "Epoch 4/5\n",
      "60000/60000 [==============================] - 14s 233us/step - loss: 0.0219 - acc: 0.9933\n",
      "Epoch 5/5\n",
      "60000/60000 [==============================] - 14s 233us/step - loss: 0.0145 - acc: 0.9952\n"
     ]
    }
   ],
   "source": [
    "history = model.fit(x_train, y_train, epochs=5)"
   ]
  },
  {
   "cell_type": "markdown",
   "metadata": {},
   "source": [
    "We can inspect the training results by plotting the collected data in the\n",
    "`history` object."
   ]
  },
  {
   "cell_type": "code",
   "execution_count": 9,
   "metadata": {},
   "outputs": [
    {
     "data": {
      "image/png": "[encoded data removed]",
      "text/plain": [
       "<Figure size 864x288 with 2 Axes>"
      ]
     },
     "metadata": {
      "needs_background": "light"
     },
     "output_type": "display_data"
    }
   ],
   "source": [
    "fig, axs = plt.subplots(1, 2, figsize=(12, 4))\n",
    "\n",
    "axs[0].plot(history.history['loss'])\n",
    "axs[0].set_title('Training loss')\n",
    "axs[0].set(xlabel='Epochs', ylabel='Loss')\n",
    "\n",
    "axs[1].plot(history.history['acc'])\n",
    "axs[1].set_title('Training accuracy')\n",
    "axs[1].set(xlabel='Epochs', ylabel='Accuracy')\n",
    "plt.show()"
   ]
  },
  {
   "cell_type": "markdown",
   "metadata": {},
   "source": [
    "Evaluate the trained model on the test dataset."
   ]
  },
  {
   "cell_type": "code",
   "execution_count": 10,
   "metadata": {},
   "outputs": [
    {
     "name": "stdout",
     "output_type": "stream",
     "text": [
      "10000/10000 [==============================] - 1s 54us/step\n",
      "Test loss: 0.04550253259223828\n",
      "Test accuracy: 0.9867\n"
     ]
    }
   ],
   "source": [
    "loss, accuracy = model.evaluate(x_test,y_test)\n",
    "print(\"Test loss: {}\".format(loss))\n",
    "print(\"Test accuracy: {}\".format(accuracy))"
   ]
  },
  {
   "cell_type": "markdown",
   "metadata": {},
   "source": [
    "## Save checkpoint\n",
    "We use the [checkpoint saving method for the Vitis AI flow](https://github.com/Xilinx/Vitis-AI-Tutorials/tree/Keras-Freeze-with-Vitis-AI). We can get the session and graph from the `keras.backend` module\n",
    "and use those to save a Tensorflow checkpoint compatible with the Vitis AI\n",
    "workflow. The following cell does the following:\n",
    "\n",
    "1. Set up Tensorflow saver object\n",
    "2. Fetch the Tensorflow session using the Keras backend\n",
    "3. Get the Tensorflow session graph\n",
    "4. Write out Tensorflow checkpoint and inference graph for use with the freeze_graph script"
   ]
  },
  {
   "cell_type": "code",
   "execution_count": 11,
   "metadata": {},
   "outputs": [],
   "source": [
    "!mkdir -p generated/notebook\n",
    "!mkdir -p generated/build"
   ]
  },
  {
   "cell_type": "code",
   "execution_count": 12,
   "metadata": {},
   "outputs": [
    {
     "data": {
      "text/plain": [
       "'generated/notebook/mnist_classifier.pb'"
      ]
     },
     "execution_count": 12,
     "metadata": {},
     "output_type": "execute_result"
    }
   ],
   "source": [
    "basepath = 'generated/notebook/'\n",
    "saver = tf.train.Saver()\n",
    "tf_session = keras.backend.get_session()\n",
    "input_graph_def = tf_session.graph.as_graph_def()\n",
    "save_path = saver.save(tf_session, basepath + 'checkpoint.ckpt')\n",
    "tf.train.write_graph(input_graph_def,\n",
    "                     basepath, 'mnist_classifier.pb', as_text=False)"
   ]
  },
  {
   "cell_type": "markdown",
   "metadata": {},
   "source": [
    "As well as saving the checkpoint we also need to make a note of the input \n",
    "and output nodes of the graph for freezing and quantization. We made our\n",
    "lives a bit easier by naming the input and output layers, which results\n",
    "in our input and output nodes being named `input_data` and \n",
    "`output_logits/Softmax` respectively. You can check the node names in the \n",
    "list defined below."
   ]
  },
  {
   "cell_type": "code",
   "execution_count": 13,
   "metadata": {},
   "outputs": [],
   "source": [
    "nodes_names = [node.name for node in \n",
    "               tf.get_default_graph().as_graph_def().node]"
   ]
  },
  {
   "cell_type": "markdown",
   "metadata": {},
   "source": [
    "## Freeze Tensorflow graph\n",
    "The Vitis AI flow requires a frozen model for quantization. We can obtain a binary\n",
    "protobuf file of our frozen model by using the Tensorflow `freeze_graph` utility."
   ]
  },
  {
   "cell_type": "code",
   "execution_count": 14,
   "metadata": {},
   "outputs": [
    {
     "name": "stdout",
     "output_type": "stream",
     "text": [
      "WARNING:tensorflow:From /opt/vitis_ai/conda/envs/vitis-ai-tensorflow/lib/python3.6/site-packages/tensorflow_core/python/tools/freeze_graph.py:127: checkpoint_exists (from tensorflow.python.training.checkpoint_management) is deprecated and will be removed in a future version.\n",
      "Instructions for updating:\n",
      "Use standard file APIs to check for files with this prefix.\n",
      "W0124 09:20:23.858401 140170003269440 deprecation.py:323] From /opt/vitis_ai/conda/envs/vitis-ai-tensorflow/lib/python3.6/site-packages/tensorflow_core/python/tools/freeze_graph.py:127: checkpoint_exists (from tensorflow.python.training.checkpoint_management) is deprecated and will be removed in a future version.\n",
      "Instructions for updating:\n",
      "Use standard file APIs to check for files with this prefix.\n",
      "2021-01-24 09:20:23.903663: I tensorflow/core/platform/cpu_feature_guard.cc:142] Your CPU supports instructions that this TensorFlow binary was not compiled to use: SSE4.1 SSE4.2 AVX AVX2 FMA\n",
      "2021-01-24 09:20:23.924377: I tensorflow/core/platform/profile_utils/cpu_utils.cc:94] CPU Frequency: 3799900000 Hz\n",
      "2021-01-24 09:20:23.924570: I tensorflow/compiler/xla/service/service.cc:168] XLA service 0x5581450d1c20 initialized for platform Host (this does not guarantee that XLA will be used). Devices:\n",
      "2021-01-24 09:20:23.924580: I tensorflow/compiler/xla/service/service.cc:176]   StreamExecutor device (0): Host, Default Version\n",
      "INFO:tensorflow:Restoring parameters from generated/notebook/checkpoint.ckpt\n",
      "I0124 09:20:23.950756 140170003269440 saver.py:1284] Restoring parameters from generated/notebook/checkpoint.ckpt\n",
      "WARNING:tensorflow:From /opt/vitis_ai/conda/envs/vitis-ai-tensorflow/lib/python3.6/site-packages/tensorflow_core/python/tools/freeze_graph.py:233: convert_variables_to_constants (from tensorflow.python.framework.graph_util_impl) is deprecated and will be removed in a future version.\n",
      "Instructions for updating:\n",
      "Use `tf.compat.v1.graph_util.convert_variables_to_constants`\n",
      "W0124 09:20:23.982517 140170003269440 deprecation.py:323] From /opt/vitis_ai/conda/envs/vitis-ai-tensorflow/lib/python3.6/site-packages/tensorflow_core/python/tools/freeze_graph.py:233: convert_variables_to_constants (from tensorflow.python.framework.graph_util_impl) is deprecated and will be removed in a future version.\n",
      "Instructions for updating:\n",
      "Use `tf.compat.v1.graph_util.convert_variables_to_constants`\n",
      "WARNING:tensorflow:From /opt/vitis_ai/conda/envs/vitis-ai-tensorflow/lib/python3.6/site-packages/tensorflow_core/python/framework/graph_util_impl.py:277: extract_sub_graph (from tensorflow.python.framework.graph_util_impl) is deprecated and will be removed in a future version.\n",
      "Instructions for updating:\n",
      "Use `tf.compat.v1.graph_util.extract_sub_graph`\n",
      "W0124 09:20:23.982649 140170003269440 deprecation.py:323] From /opt/vitis_ai/conda/envs/vitis-ai-tensorflow/lib/python3.6/site-packages/tensorflow_core/python/framework/graph_util_impl.py:277: extract_sub_graph (from tensorflow.python.framework.graph_util_impl) is deprecated and will be removed in a future version.\n",
      "Instructions for updating:\n",
      "Use `tf.compat.v1.graph_util.extract_sub_graph`\n",
      "INFO:tensorflow:Froze 6 variables.\n",
      "I0124 09:20:23.994201 140170003269440 graph_util_impl.py:334] Froze 6 variables.\n",
      "INFO:tensorflow:Converted 6 variables to const ops.\n",
      "I0124 09:20:24.008821 140170003269440 graph_util_impl.py:394] Converted 6 variables to const ops.\n"
     ]
    }
   ],
   "source": [
    "!freeze_graph \\\n",
    "    --input_graph generated/notebook/mnist_classifier.pb \\\n",
    "    --input_checkpoint generated/notebook/checkpoint.ckpt \\\n",
    "    --input_binary true \\\n",
    "    --output_graph generated/notebook/frozen.pb \\\n",
    "    --output_node_names output_logits/Softmax"
   ]
  },
  {
   "cell_type": "markdown",
   "metadata": {},
   "source": [
    "## Quantization\n",
    "We will save some of our training data as calibration data for\n",
    "`vai_q_tensorflow`, then use that along with the frozen graph to quantize our model.\n",
    "\n",
    "`vai_q_tensorflow inspect` can be used to confirm available input and output\n",
    "node names."
   ]
  },
  {
   "cell_type": "code",
   "execution_count": 15,
   "metadata": {},
   "outputs": [
    {
     "name": "stdout",
     "output_type": "stream",
     "text": [
      "Op types used: 11 Const, 6 Identity, 3 BiasAdd, 2 MatMul, 2 Relu, 1 Conv2D, 1 MaxPool, 1 Pack, 1 Placeholder, 1 Prod, 1 Reshape, 1 Shape, 1 Softmax, 1 StridedSlice\r\n",
      "\r\n",
      "Found 1 possible inputs: (name=input_data, type=float(1), shape=[?,28,28,1]) \r\n",
      "Found 1 possible outputs: (name=output_logits/Softmax, op=Softmax) \r\n"
     ]
    }
   ],
   "source": [
    "!vai_q_tensorflow inspect --input_frozen_graph=generated/notebook/frozen.pb"
   ]
  },
  {
   "cell_type": "markdown",
   "metadata": {},
   "source": [
    "We will save a portion of our training data for quantization.\n",
    "Recommended number is around 100-1000 for images."
   ]
  },
  {
   "cell_type": "code",
   "execution_count": 16,
   "metadata": {},
   "outputs": [],
   "source": [
    "np.savez(basepath + 'calib_data.npz', data = x_train[:1024])"
   ]
  },
  {
   "cell_type": "markdown",
   "metadata": {},
   "source": [
    "The quantizer requires an input function to feed batches of calibration data.\n",
    "In order to replicate the input in the way that the network sees during training, \n",
    "you could add normalization and other pre-processing steps here as well. \n",
    "Since we saved our calibration data already normalized, we can keep our \n",
    "function simple and just use it to pass batches of data to our model.\n",
    "\n",
    "In the next cell, we will use IPython magic to write a Python file\n",
    "`input_func.py` in the current working directory. This is required by the\n",
    "`vai_q_tensorflow` compiler as you can see later."
   ]
  },
  {
   "cell_type": "code",
   "execution_count": 17,
   "metadata": {},
   "outputs": [
    {
     "name": "stdout",
     "output_type": "stream",
     "text": [
      "Writing generated/notebook/input_func.py\n"
     ]
    }
   ],
   "source": [
    "%%writefile generated/notebook/input_func.py\n",
    "import numpy as np\n",
    "\n",
    "basepath = 'generated/notebook/'\n",
    "data = np.load(basepath + 'calib_data.npz')['data']\n",
    "\n",
    "batch_size=32\n",
    "\n",
    "def calib_input(iter):\n",
    "\n",
    "    calib_data = data[iter*batch_size:(iter+1)*batch_size]\n",
    "\n",
    "    return {'input_data': calib_data}"
   ]
  },
  {
   "cell_type": "code",
   "execution_count": 18,
   "metadata": {},
   "outputs": [
    {
     "name": "stdout",
     "output_type": "stream",
     "text": [
      "INFO: Checking Float Graph...\n",
      "INFO: Float Graph Check Done.\n",
      "INFO: Calibrating for 32 iterations...\n",
      "100% (32 of 32) |########################| Elapsed Time: 0:00:02 Time:  0:00:02\n",
      "INFO: Calibration Done.\n",
      "INFO: Generating Deploy Model...\n",
      "INFO: Deploy Model Generated.\n",
      "********************* Quantization Summary *********************      \n",
      "INFO: Output:       \n",
      "  quantize_eval_model: generated/notebook/quantized/quantize_eval_model.pb       \n",
      "  deploy_model: generated/notebook/quantized/deploy_model.pb\n"
     ]
    }
   ],
   "source": [
    "!vai_q_tensorflow quantize \\\n",
    "    --input_frozen_graph generated/notebook/frozen.pb \\\n",
    "    --input_fn generated.notebook.input_func.calib_input \\\n",
    "    --output_dir generated/notebook/quantized \\\n",
    "    --input_nodes input_data \\\n",
    "    --output_nodes output_logits/Softmax \\\n",
    "    --input_shapes ?,28,28,1 \\\n",
    "    --calib_iter 32"
   ]
  },
  {
   "cell_type": "markdown",
   "metadata": {},
   "source": [
    "## Evaluate quantized model\n",
    "The quantizer produces a special model called `quantize_eval_model.pb`, \n",
    "which we can use to load up like a regular Tensorfow binary graph and \n",
    "evaluate its performance.\n",
    "\n",
    "Because we already have a graph definition in our session, we need to\n",
    "reset the default graph so as to not interfere with the graph we are \n",
    "about to load from the frozen model."
   ]
  },
  {
   "cell_type": "code",
   "execution_count": 19,
   "metadata": {},
   "outputs": [],
   "source": [
    "tf.reset_default_graph()"
   ]
  },
  {
   "cell_type": "markdown",
   "metadata": {},
   "source": [
    "In order to evaluate a quantized model we have to import `tensorflow.contrib.decent_q`, \n",
    "otherwise the model evaluation will error out. We will use standard \n",
    "Tensorflow 1, to set up the graph for evaluation.\n",
    "\n",
    "In the next cell, we will read in a frozen binary graph and add the \n",
    "accuracy metric."
   ]
  },
  {
   "cell_type": "code",
   "execution_count": 20,
   "metadata": {},
   "outputs": [],
   "source": [
    "import tensorflow.contrib.decent_q\n",
    "\n",
    "with tf.gfile.GFile(basepath + 'quantized/quantize_eval_model.pb', \"rb\") as f:\n",
    "    graph = tf.GraphDef()\n",
    "    graph.ParseFromString(f.read())\n",
    "\n",
    "tf.import_graph_def(graph,name = '')\n",
    "\n",
    "input_data = tf.get_default_graph().get_tensor_by_name('input_data'+':0')\n",
    "labels = tf.placeholder(tf.int64, shape=[None,])\n",
    "logits = tf.get_default_graph().get_tensor_by_name(\n",
    "    'output_logits/Softmax'+':0')\n",
    "\n",
    "nn_output = tf.argmax(logits, 1)\n",
    "correct_prediction = tf.equal(nn_output, labels)\n",
    "accuracy = tf.reduce_mean(tf.cast(correct_prediction, tf.float32))"
   ]
  },
  {
   "cell_type": "markdown",
   "metadata": {},
   "source": [
    "Run a Tensorflow session to evaluate the test accuracy of the quantized model.\n",
    "If the accuracy at this stage is acceptable, we can proceed to compilation \n",
    "and deployment on DPU."
   ]
  },
  {
   "cell_type": "code",
   "execution_count": 21,
   "metadata": {},
   "outputs": [
    {
     "name": "stdout",
     "output_type": "stream",
     "text": [
      "Average accuracy on test set: 0.9861000180244446\n"
     ]
    }
   ],
   "source": [
    "with tf.Session() as sess:\n",
    "    sess.run(tf.global_variables_initializer())\n",
    "    sess.run(tf.initializers.local_variables())\n",
    "    \n",
    "    acc = accuracy.eval(feed_dict={input_data: x_test, labels: y_test})\n",
    "    print(\"Average accuracy on test set: {}\".format(acc))"
   ]
  },
  {
   "cell_type": "markdown",
   "metadata": {},
   "source": [
    "## Compilation\n",
    "Now that we are satisfied with our quantized model accuracy, we can compile it and move onto the target.\n",
    "\n",
    "This example targets the Ultra96. You can target a different architecture by\n",
    "specifying its configuration json file with the `--arch` flag."
   ]
  },
  {
   "cell_type": "code",
   "execution_count": 22,
   "metadata": {},
   "outputs": [
    {
     "name": "stdout",
     "output_type": "stream",
     "text": [
      "**************************************************\n",
      "* VITIS_AI Compilation - Xilinx Inc.\n",
      "**************************************************\n",
      "\u001b[0;33m[VAI_C][Warning] layer [output_logits_Softmax] (type: Softmax) is not supported in DPU, deploy it in CPU instead.\n",
      "\u001b[m\n",
      "Kernel topology \"mnist_classifier_kernel_graph.jpg\" for network \"mnist_classifier\"\n",
      "kernel list info for network \"mnist_classifier\"\n",
      "                               Kernel ID : Name\n",
      "                                       0 : mnist_classifier_0\n",
      "                                       1 : mnist_classifier_1\n",
      "\n",
      "                             Kernel Name : mnist_classifier_0\n",
      "--------------------------------------------------------------------------------\n",
      "                             Kernel Type : DPUKernel\n",
      "                               Code Size : 4.48KB\n",
      "                              Param Size : 0.66MB\n",
      "                           Workload MACs : 1.78MOPS\n",
      "                         IO Memory Space : 6.05KB\n",
      "                              Mean Value : 0, 0, 0, \n",
      "                      Total Tensor Count : 4\n",
      "                Boundary Input Tensor(s)   (H*W*C)\n",
      "                         input_data:0(0) : 28*28*1\n",
      "\n",
      "               Boundary Output Tensor(s)   (H*W*C)\n",
      "               output_logits_MatMul:0(0) : 1*1*10\n",
      "\n",
      "                        Total Node Count : 3\n",
      "                           Input Node(s)   (H*W*C)\n",
      "                 conv2d_1_convolution(0) : 28*28*1\n",
      "\n",
      "                          Output Node(s)   (H*W*C)\n",
      "                 output_logits_MatMul(0) : 1*1*10\n",
      "\n",
      "\n",
      "\n",
      "\n",
      "                             Kernel Name : mnist_classifier_1\n",
      "--------------------------------------------------------------------------------\n",
      "                             Kernel Type : CPUKernel\n",
      "                Boundary Input Tensor(s)   (H*W*C)\n",
      "              output_logits_Softmax:0(0) : 1*1*10\n",
      "\n",
      "               Boundary Output Tensor(s)   (H*W*C)\n",
      "              output_logits_Softmax:0(0) : 1*1*10\n",
      "\n",
      "                           Input Node(s)   (H*W*C)\n",
      "                   output_logits_Softmax : 1*1*10\n",
      "\n",
      "                          Output Node(s)   (H*W*C)\n",
      "                   output_logits_Softmax : 1*1*10\n",
      "\n",
      "\n",
      "\n",
      "\n"
     ]
    }
   ],
   "source": [
    "!vai_c_tensorflow \\\n",
    "    --frozen_pb generated/notebook/quantized/deploy_model.pb \\\n",
    "    --arch /opt/vitis_ai/compiler/arch/DPUCZDX8G/Ultra96/Ultra96.json \\\n",
    "    --output_dir generated/build \\\n",
    "    --net_name mnist_classifier"
   ]
  },
  {
   "cell_type": "markdown",
   "metadata": {},
   "source": [
    "Note that some node names are different now, take a note of these, as they are required by the DNNDK API on the target. \n",
    "\n",
    "* Input node: `conv2d_1_convolution`\n",
    "* Output node: `output_logits_MatMul`\n",
    "* Kernel name: `mnist_classifier_0`\n",
    "\n",
    "Copyright (C) 2020 Xilinx, Inc"
   ]
  }
 ],
 "metadata": {
  "kernelspec": {
   "display_name": "Python 3",
   "language": "python",
   "name": "python3"
  },
  "language_info": {
   "codemirror_mode": {
    "name": "ipython",
    "version": 3
   },
   "file_extension": ".py",
   "mimetype": "text/x-python",
   "name": "python",
   "nbconvert_exporter": "python",
   "pygments_lexer": "ipython3",
   "version": "3.6.10"
  }
 },
 "nbformat": 4,
 "nbformat_minor": 4
}
